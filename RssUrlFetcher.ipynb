{
 "metadata": {
  "name": "",
  "signature": "sha256:c4a382e068a8d0ea20caca6ead05dc76e9a10bc9124f9debdcfe7ae9065f2239"
 },
 "nbformat": 3,
 "nbformat_minor": 0,
 "worksheets": [
  {
   "cells": [
    {
     "cell_type": "code",
     "collapsed": false,
     "input": [
      "# Notebook Setup\n",
      "\n",
      "import feedparser\n",
      "from pymongo import MongoClient"
     ],
     "language": "python",
     "metadata": {},
     "outputs": [],
     "prompt_number": 1
    },
    {
     "cell_type": "code",
     "collapsed": false,
     "input": [
      "# Feeds to read\n",
      "feeds = ['http://rss.cnn.com/rss/cnn_allpolitics.rss',\n",
      "'http://feeds.abcnews.com/abcnews/politicsheadlines',\n",
      "'http://feeds.foxnews.com/foxnews/politics',\n",
      "'http://feeds.bbci.co.uk/news/world/us_and_canada/rss.xml',\n",
      "'http://www.usnews.com/rss/opinion', \n",
      "'http://www.npr.org/rss/rss.php?id=1012'] "
     ],
     "language": "python",
     "metadata": {},
     "outputs": [],
     "prompt_number": 5
    },
    {
     "cell_type": "code",
     "collapsed": false,
     "input": [
      "feed = feedparser.parse(feeds[0])\n",
      "print len(feed.entries)"
     ],
     "language": "python",
     "metadata": {},
     "outputs": [
      {
       "output_type": "stream",
       "stream": "stdout",
       "text": [
        "98\n"
       ]
      }
     ],
     "prompt_number": 13
    },
    {
     "cell_type": "code",
     "collapsed": false,
     "input": [
      "links = []\n",
      "\n",
      "for post in feed.entries:\n",
      "   links.append({\"link\": post.link})\n",
      "    \n",
      "print links[0]"
     ],
     "language": "python",
     "metadata": {},
     "outputs": [
      {
       "output_type": "stream",
       "stream": "stdout",
       "text": [
        "{'link': u'http://rss.cnn.com/~r/rss/cnn_allpolitics/~3/reDv2CCwYW8/index.html'}\n"
       ]
      }
     ],
     "prompt_number": 21
    },
    {
     "cell_type": "code",
     "collapsed": false,
     "input": [
      "client = MongoClient()"
     ],
     "language": "python",
     "metadata": {},
     "outputs": [],
     "prompt_number": 9
    },
    {
     "cell_type": "code",
     "collapsed": false,
     "input": [
      "db.urls.drop()\n",
      "db = client.url_database"
     ],
     "language": "python",
     "metadata": {},
     "outputs": [],
     "prompt_number": 37
    },
    {
     "cell_type": "code",
     "collapsed": false,
     "input": [
      "#result = db.urls.insert_one(links[0])\n",
      "result = db.urls.insert_many(links)\n",
      "result.inserted_ids"
     ],
     "language": "python",
     "metadata": {},
     "outputs": [
      {
       "metadata": {},
       "output_type": "pyout",
       "prompt_number": 38,
       "text": [
        "[ObjectId('55676e732ff033484c95a032'),\n",
        " ObjectId('55676e812ff033484c95a033'),\n",
        " ObjectId('55676e812ff033484c95a034'),\n",
        " ObjectId('55676e812ff033484c95a035'),\n",
        " ObjectId('55676e812ff033484c95a036'),\n",
        " ObjectId('55676e812ff033484c95a037'),\n",
        " ObjectId('55676e812ff033484c95a038'),\n",
        " ObjectId('55676e812ff033484c95a039'),\n",
        " ObjectId('55676e812ff033484c95a03a'),\n",
        " ObjectId('55676e812ff033484c95a03b'),\n",
        " ObjectId('55676e812ff033484c95a03c'),\n",
        " ObjectId('55676e812ff033484c95a03d'),\n",
        " ObjectId('55676e812ff033484c95a03e'),\n",
        " ObjectId('55676e812ff033484c95a03f'),\n",
        " ObjectId('55676e812ff033484c95a040'),\n",
        " ObjectId('55676e812ff033484c95a041'),\n",
        " ObjectId('55676e812ff033484c95a042'),\n",
        " ObjectId('55676e812ff033484c95a043'),\n",
        " ObjectId('55676e812ff033484c95a044'),\n",
        " ObjectId('55676e812ff033484c95a045'),\n",
        " ObjectId('55676e812ff033484c95a046'),\n",
        " ObjectId('55676e812ff033484c95a047'),\n",
        " ObjectId('55676e812ff033484c95a048'),\n",
        " ObjectId('55676e812ff033484c95a049'),\n",
        " ObjectId('55676e812ff033484c95a04a'),\n",
        " ObjectId('55676e812ff033484c95a04b'),\n",
        " ObjectId('55676e812ff033484c95a04c'),\n",
        " ObjectId('55676e812ff033484c95a04d'),\n",
        " ObjectId('55676e812ff033484c95a04e'),\n",
        " ObjectId('55676e812ff033484c95a04f'),\n",
        " ObjectId('55676e812ff033484c95a050'),\n",
        " ObjectId('55676e812ff033484c95a051'),\n",
        " ObjectId('55676e812ff033484c95a052'),\n",
        " ObjectId('55676e812ff033484c95a053'),\n",
        " ObjectId('55676e812ff033484c95a054'),\n",
        " ObjectId('55676e812ff033484c95a055'),\n",
        " ObjectId('55676e812ff033484c95a056'),\n",
        " ObjectId('55676e812ff033484c95a057'),\n",
        " ObjectId('55676e812ff033484c95a058'),\n",
        " ObjectId('55676e812ff033484c95a059'),\n",
        " ObjectId('55676e812ff033484c95a05a'),\n",
        " ObjectId('55676e812ff033484c95a05b'),\n",
        " ObjectId('55676e812ff033484c95a05c'),\n",
        " ObjectId('55676e812ff033484c95a05d'),\n",
        " ObjectId('55676e812ff033484c95a05e'),\n",
        " ObjectId('55676e812ff033484c95a05f'),\n",
        " ObjectId('55676e812ff033484c95a060'),\n",
        " ObjectId('55676e812ff033484c95a061'),\n",
        " ObjectId('55676e812ff033484c95a062'),\n",
        " ObjectId('55676e812ff033484c95a063'),\n",
        " ObjectId('55676e812ff033484c95a064'),\n",
        " ObjectId('55676e812ff033484c95a065'),\n",
        " ObjectId('55676e812ff033484c95a066'),\n",
        " ObjectId('55676e812ff033484c95a067'),\n",
        " ObjectId('55676e812ff033484c95a068'),\n",
        " ObjectId('55676e812ff033484c95a069'),\n",
        " ObjectId('55676e812ff033484c95a06a'),\n",
        " ObjectId('55676e812ff033484c95a06b'),\n",
        " ObjectId('55676e812ff033484c95a06c'),\n",
        " ObjectId('55676e812ff033484c95a06d'),\n",
        " ObjectId('55676e812ff033484c95a06e'),\n",
        " ObjectId('55676e812ff033484c95a06f'),\n",
        " ObjectId('55676e812ff033484c95a070'),\n",
        " ObjectId('55676e812ff033484c95a071'),\n",
        " ObjectId('55676e812ff033484c95a072'),\n",
        " ObjectId('55676e812ff033484c95a073'),\n",
        " ObjectId('55676e812ff033484c95a074'),\n",
        " ObjectId('55676e812ff033484c95a075'),\n",
        " ObjectId('55676e812ff033484c95a076'),\n",
        " ObjectId('55676e812ff033484c95a077'),\n",
        " ObjectId('55676e812ff033484c95a078'),\n",
        " ObjectId('55676e812ff033484c95a079'),\n",
        " ObjectId('55676e812ff033484c95a07a'),\n",
        " ObjectId('55676e812ff033484c95a07b'),\n",
        " ObjectId('55676e812ff033484c95a07c'),\n",
        " ObjectId('55676e812ff033484c95a07d'),\n",
        " ObjectId('55676e812ff033484c95a07e'),\n",
        " ObjectId('55676e812ff033484c95a07f'),\n",
        " ObjectId('55676e812ff033484c95a080'),\n",
        " ObjectId('55676e812ff033484c95a081'),\n",
        " ObjectId('55676e812ff033484c95a082'),\n",
        " ObjectId('55676e812ff033484c95a083'),\n",
        " ObjectId('55676e812ff033484c95a084'),\n",
        " ObjectId('55676e812ff033484c95a085'),\n",
        " ObjectId('55676e812ff033484c95a086'),\n",
        " ObjectId('55676e812ff033484c95a087'),\n",
        " ObjectId('55676e812ff033484c95a088'),\n",
        " ObjectId('55676e812ff033484c95a089'),\n",
        " ObjectId('55676e812ff033484c95a08a'),\n",
        " ObjectId('55676e812ff033484c95a08b'),\n",
        " ObjectId('55676e812ff033484c95a08c'),\n",
        " ObjectId('55676e812ff033484c95a08d'),\n",
        " ObjectId('55676e812ff033484c95a08e'),\n",
        " ObjectId('55676e812ff033484c95a08f'),\n",
        " ObjectId('55676e812ff033484c95a090'),\n",
        " ObjectId('55676e812ff033484c95a091'),\n",
        " ObjectId('55676e812ff033484c95a092'),\n",
        " ObjectId('55676e812ff033484c95a093')]"
       ]
      }
     ],
     "prompt_number": 38
    },
    {
     "cell_type": "code",
     "collapsed": false,
     "input": [
      "db.urls.find_one()"
     ],
     "language": "python",
     "metadata": {},
     "outputs": [
      {
       "metadata": {},
       "output_type": "pyout",
       "prompt_number": 39,
       "text": [
        "{u'_id': ObjectId('55676e732ff033484c95a032'),\n",
        " u'link': u'http://rss.cnn.com/~r/rss/cnn_allpolitics/~3/reDv2CCwYW8/index.html'}"
       ]
      }
     ],
     "prompt_number": 39
    },
    {
     "cell_type": "code",
     "collapsed": false,
     "input": [],
     "language": "python",
     "metadata": {},
     "outputs": []
    }
   ],
   "metadata": {}
  }
 ]
}